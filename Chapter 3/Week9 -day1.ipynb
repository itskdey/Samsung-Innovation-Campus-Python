{
 "cells": [
  {
   "cell_type": "markdown",
   "metadata": {},
   "source": [
    "# CHAPTER 3 \n",
    "## UNIT 17 : Function "
   ]
  },
  {
   "cell_type": "markdown",
   "metadata": {},
   "source": []
  },
  {
   "cell_type": "code",
   "execution_count": 5,
   "metadata": {},
   "outputs": [
    {
     "name": "stdout",
     "output_type": "stream",
     "text": [
      "Encrypted text : NGHB WKH JRG\n"
     ]
    }
   ],
   "source": [
    "import string\n",
    "\n",
    "def cipher(a):\n",
    "    idx = src_str.index(a)\n",
    "    return dst_str[idx]\n",
    "\n",
    "src_str = string.ascii_uppercase\n",
    "dst_str = src_str[3:] + src_str[:3]\n",
    "\n",
    "src = input(\"Enter a sentence : \")\n",
    "print(\"Encrypted text : \", end=\"\")\n",
    "\n",
    "for ch in src:\n",
    "    if ch in src_str:\n",
    "        print(cipher(ch), end=\"\")\n",
    "    else:\n",
    "        print(ch, end=\"\")\n",
    "\n",
    "print()\n",
    "    "
   ]
  },
  {
   "cell_type": "markdown",
   "metadata": {},
   "source": [
    "wdw"
   ]
  },
  {
   "cell_type": "code",
   "execution_count": 7,
   "metadata": {},
   "outputs": [
    {
     "name": "stdout",
     "output_type": "stream",
     "text": [
      "****************\n"
     ]
    }
   ],
   "source": [
    "def print_star():\n",
    "    print(\"****************\")\n",
    "print_star()"
   ]
  },
  {
   "cell_type": "code",
   "execution_count": 8,
   "metadata": {},
   "outputs": [
    {
     "name": "stdout",
     "output_type": "stream",
     "text": [
      "****************\n",
      "****************\n",
      "****************\n",
      "****************\n"
     ]
    }
   ],
   "source": [
    "def print_star():\n",
    "    print(\"****************\")\n",
    "print_star()\n",
    "print_star()\n",
    "print_star()\n",
    "print_star()"
   ]
  },
  {
   "cell_type": "code",
   "execution_count": 1,
   "metadata": {},
   "outputs": [
    {
     "name": "stdout",
     "output_type": "stream",
     "text": [
      "****************\n",
      "****************\n",
      "****************\n",
      "****************\n",
      "****************\n",
      "****************\n",
      "****************\n",
      "****************\n",
      "****************\n",
      "****************\n"
     ]
    }
   ],
   "source": [
    "def print_star(n):\n",
    "    for _ in range(n):\n",
    "     print(\"****************\")\n",
    "\n",
    "print_star(10)"
   ]
  },
  {
   "cell_type": "code",
   "execution_count": 5,
   "metadata": {},
   "outputs": [
    {
     "name": "stdout",
     "output_type": "stream",
     "text": [
      "It's prints error twice : \n",
      "hello hello \n",
      "It's prints error 3 times : \n",
      "hello hello hello \n",
      "It's prints error 4 times : \n",
      "hello hello hello hello \n"
     ]
    }
   ],
   "source": [
    "def print_hello(n):\n",
    "    print(\"hello \" * n)\n",
    "\n",
    "print(\"It's prints error twice : \") \n",
    "print_hello(2)\n",
    "print(\"It's prints error 3 times : \") \n",
    "print_hello(3)\n",
    "print(\"It's prints error 4 times : \")\n",
    "print_hello(4)\n"
   ]
  },
  {
   "cell_type": "code",
   "execution_count": 9,
   "metadata": {},
   "outputs": [
    {
     "name": "stdout",
     "output_type": "stream",
     "text": [
      "The sum of 10 and 29 is 39\n"
     ]
    }
   ],
   "source": [
    "def print_sum(a, b):\n",
    "    result = a + b\n",
    "    print(\"The sum of\", a , \"and\", b, \"is\", result)\n",
    "\n",
    "print_sum(10, 29)"
   ]
  },
  {
   "cell_type": "code",
   "execution_count": null,
   "metadata": {},
   "outputs": [],
   "source": []
  }
 ],
 "metadata": {
  "kernelspec": {
   "display_name": "Python 3",
   "language": "python",
   "name": "python3"
  },
  "language_info": {
   "codemirror_mode": {
    "name": "ipython",
    "version": 3
   },
   "file_extension": ".py",
   "mimetype": "text/x-python",
   "name": "python",
   "nbconvert_exporter": "python",
   "pygments_lexer": "ipython3",
   "version": "3.11.0"
  },
  "orig_nbformat": 4
 },
 "nbformat": 4,
 "nbformat_minor": 2
}
