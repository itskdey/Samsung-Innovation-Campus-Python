{
 "cells": [
  {
   "cell_type": "markdown",
   "metadata": {},
   "source": [
    "# CHAPTER 3 \n",
    "## UNIT 17 : Function "
   ]
  },
  {
   "cell_type": "markdown",
   "metadata": {},
   "source": []
  },
  {
   "cell_type": "code",
   "execution_count": 5,
   "metadata": {},
   "outputs": [
    {
     "name": "stdout",
     "output_type": "stream",
     "text": [
      "Encrypted text : NGHB WKH JRG\n"
     ]
    }
   ],
   "source": [
    "import string\n",
    "\n",
    "def cipher(a):\n",
    "    idx = src_str.index(a)\n",
    "    return dst_str[idx]\n",
    "\n",
    "src_str = string.ascii_uppercase\n",
    "dst_str = src_str[3:] + src_str[:3]\n",
    "\n",
    "src = input(\"Enter a sentence : \")\n",
    "print(\"Encrypted text : \", end=\"\")\n",
    "\n",
    "for ch in src:\n",
    "    if ch in src_str:\n",
    "        print(cipher(ch), end=\"\")\n",
    "    else:\n",
    "        print(ch, end=\"\")\n",
    "\n",
    "print()\n",
    "    "
   ]
  },
  {
   "cell_type": "markdown",
   "metadata": {},
   "source": [
    "wdw"
   ]
  },
  {
   "cell_type": "code",
   "execution_count": 7,
   "metadata": {},
   "outputs": [
    {
     "name": "stdout",
     "output_type": "stream",
     "text": [
      "****************\n"
     ]
    }
   ],
   "source": [
    "def print_star():\n",
    "    print(\"****************\")\n",
    "print_star()"
   ]
  },
  {
   "cell_type": "code",
   "execution_count": 8,
   "metadata": {},
   "outputs": [
    {
     "name": "stdout",
     "output_type": "stream",
     "text": [
      "****************\n",
      "****************\n",
      "****************\n",
      "****************\n"
     ]
    }
   ],
   "source": [
    "def print_star():\n",
    "    print(\"****************\")\n",
    "print_star()\n",
    "print_star()\n",
    "print_star()\n",
    "print_star()"
   ]
  },
  {
   "cell_type": "code",
   "execution_count": 1,
   "metadata": {},
   "outputs": [
    {
     "name": "stdout",
     "output_type": "stream",
     "text": [
      "****************\n",
      "****************\n",
      "****************\n",
      "****************\n",
      "****************\n",
      "****************\n",
      "****************\n",
      "****************\n",
      "****************\n",
      "****************\n"
     ]
    }
   ],
   "source": [
    "def print_star(n):\n",
    "    for _ in range(n):\n",
    "     print(\"****************\")\n",
    "\n",
    "print_star(10)"
   ]
  },
  {
   "cell_type": "code",
   "execution_count": 5,
   "metadata": {},
   "outputs": [
    {
     "name": "stdout",
     "output_type": "stream",
     "text": [
      "It's prints error twice : \n",
      "hello hello \n",
      "It's prints error 3 times : \n",
      "hello hello hello \n",
      "It's prints error 4 times : \n",
      "hello hello hello hello \n"
     ]
    }
   ],
   "source": [
    "def print_hello(n):\n",
    "    print(\"hello \" * n)\n",
    "\n",
    "print(\"It's prints error twice : \") \n",
    "print_hello(2)\n",
    "print(\"It's prints error 3 times : \") \n",
    "print_hello(3)\n",
    "print(\"It's prints error 4 times : \")\n",
    "print_hello(4)\n"
   ]
  },
  {
   "cell_type": "code",
   "execution_count": 9,
   "metadata": {},
   "outputs": [
    {
     "name": "stdout",
     "output_type": "stream",
     "text": [
      "The sum of 10 and 29 is 39\n"
     ]
    }
   ],
   "source": [
    "def print_sum(a, b):\n",
    "    result = a + b\n",
    "    print(\"The sum of\", a , \"and\", b, \"is\", result)\n",
    "\n",
    "print_sum(10, 29)"
   ]
  },
  {
   "cell_type": "code",
   "execution_count": 10,
   "metadata": {},
   "outputs": [
    {
     "ename": "TypeError",
     "evalue": "print_sum() missing 1 required positional argument: 'b'",
     "output_type": "error",
     "traceback": [
      "\u001b[1;31m---------------------------------------------------------------------------\u001b[0m",
      "\u001b[1;31mTypeError\u001b[0m                                 Traceback (most recent call last)",
      "\u001b[1;32md:\\The Kdey\\Chapter 3\\Samsung-Innovation-Campus-Python\\Chapter 3\\Week9 -day1.ipynb Cell 10\u001b[0m line \u001b[0;36m5\n\u001b[0;32m      <a href='vscode-notebook-cell:/d%3A/The%20Kdey/Chapter%203/Samsung-Innovation-Campus-Python/Chapter%203/Week9%20-day1.ipynb#X12sZmlsZQ%3D%3D?line=1'>2</a>\u001b[0m     result \u001b[39m=\u001b[39m a \u001b[39m+\u001b[39m b\n\u001b[0;32m      <a href='vscode-notebook-cell:/d%3A/The%20Kdey/Chapter%203/Samsung-Innovation-Campus-Python/Chapter%203/Week9%20-day1.ipynb#X12sZmlsZQ%3D%3D?line=2'>3</a>\u001b[0m     \u001b[39mprint\u001b[39m(\u001b[39m\"\u001b[39m\u001b[39mThe sum of\u001b[39m\u001b[39m\"\u001b[39m, a , \u001b[39m\"\u001b[39m\u001b[39mand\u001b[39m\u001b[39m\"\u001b[39m, b, \u001b[39m\"\u001b[39m\u001b[39mis\u001b[39m\u001b[39m\"\u001b[39m, result)\n\u001b[1;32m----> <a href='vscode-notebook-cell:/d%3A/The%20Kdey/Chapter%203/Samsung-Innovation-Campus-Python/Chapter%203/Week9%20-day1.ipynb#X12sZmlsZQ%3D%3D?line=4'>5</a>\u001b[0m print_sum(\u001b[39m10\u001b[39;49m) \u001b[39m#error\u001b[39;00m\n",
      "\u001b[1;31mTypeError\u001b[0m: print_sum() missing 1 required positional argument: 'b'"
     ]
    }
   ],
   "source": [
    "def print_sum(a, b):\n",
    "    result = a + b\n",
    "    print(\"The sum of\", a , \"and\", b, \"is\", result)\n",
    "\n",
    "print_sum(10) #error"
   ]
  },
  {
   "cell_type": "code",
   "execution_count": 13,
   "metadata": {},
   "outputs": [
    {
     "name": "stdout",
     "output_type": "stream",
     "text": [
      "Hello A !\n",
      "Hello B !\n",
      "Hello C !\n",
      "Hello kDEY !\n",
      "Hello BAK DAI !\n"
     ]
    }
   ],
   "source": [
    "def greet(*names):\n",
    "    for name in names:\n",
    "        print(\"Hello\", name, \"!\")\n",
    "\n",
    "greet(\"A\", \"B\", \"C\")\n",
    "greet(\"kDEY\", \"BAK DAI\")"
   ]
  },
  {
   "cell_type": "code",
   "execution_count": 14,
   "metadata": {},
   "outputs": [
    {
     "name": "stdout",
     "output_type": "stream",
     "text": [
      "The number of arguments :  3\n",
      "Arguments : (10, 20, 30)\n"
     ]
    }
   ],
   "source": [
    "def foo(*args):\n",
    "    print(\"The number of arguments : \", len(args))\n",
    "    print(\"Arguments :\", args)\n",
    "\n",
    "foo(10, 20, 30)"
   ]
  },
  {
   "cell_type": "code",
   "execution_count": 15,
   "metadata": {},
   "outputs": [
    {
     "name": "stdout",
     "output_type": "stream",
     "text": [
      "90\n",
      "140\n"
     ]
    }
   ],
   "source": [
    "def sum_num(*numbers):\n",
    "    result = 0\n",
    "    for n in numbers :\n",
    "        result += n\n",
    "    return result\n",
    "\n",
    "print(sum_num(20, 30, 40))\n",
    "print(sum_num(20, 30, 40, 50))"
   ]
  },
  {
   "cell_type": "code",
   "execution_count": 16,
   "metadata": {},
   "outputs": [
    {
     "ename": "TypeError",
     "evalue": "print_star() missing 1 required positional argument: 'n'",
     "output_type": "error",
     "traceback": [
      "\u001b[1;31m---------------------------------------------------------------------------\u001b[0m",
      "\u001b[1;31mTypeError\u001b[0m                                 Traceback (most recent call last)",
      "\u001b[1;32md:\\The Kdey\\Chapter 3\\Samsung-Innovation-Campus-Python\\Chapter 3\\Week9 -day1.ipynb Cell 14\u001b[0m line \u001b[0;36m5\n\u001b[0;32m      <a href='vscode-notebook-cell:/d%3A/The%20Kdey/Chapter%203/Samsung-Innovation-Campus-Python/Chapter%203/Week9%20-day1.ipynb#X16sZmlsZQ%3D%3D?line=1'>2</a>\u001b[0m     \u001b[39mfor\u001b[39;00m _ \u001b[39min\u001b[39;00m \u001b[39mrange\u001b[39m(n):\n\u001b[0;32m      <a href='vscode-notebook-cell:/d%3A/The%20Kdey/Chapter%203/Samsung-Innovation-Campus-Python/Chapter%203/Week9%20-day1.ipynb#X16sZmlsZQ%3D%3D?line=2'>3</a>\u001b[0m         \u001b[39mprint\u001b[39m(\u001b[39m\"\u001b[39m\u001b[39m*\u001b[39m\u001b[39m\"\u001b[39m \u001b[39m*\u001b[39m \u001b[39m10\u001b[39m)\n\u001b[1;32m----> <a href='vscode-notebook-cell:/d%3A/The%20Kdey/Chapter%203/Samsung-Innovation-Campus-Python/Chapter%203/Week9%20-day1.ipynb#X16sZmlsZQ%3D%3D?line=4'>5</a>\u001b[0m print_star()\n",
      "\u001b[1;31mTypeError\u001b[0m: print_star() missing 1 required positional argument: 'n'"
     ]
    }
   ],
   "source": [
    "def print_star(n):\n",
    "    for _ in range(n):\n",
    "        print(\"*\" * 10)\n",
    "\n",
    "print_star() #error"
   ]
  },
  {
   "cell_type": "code",
   "execution_count": 17,
   "metadata": {},
   "outputs": [
    {
     "name": "stdout",
     "output_type": "stream",
     "text": [
      "**********\n"
     ]
    }
   ],
   "source": [
    "def print_star(n = 1):\n",
    "    for _ in range(n):\n",
    "        print(\"*\" * 10)\n",
    "\n",
    "print_star() "
   ]
  },
  {
   "cell_type": "code",
   "execution_count": 18,
   "metadata": {},
   "outputs": [
    {
     "name": "stdout",
     "output_type": "stream",
     "text": [
      "**********\n",
      "**********\n"
     ]
    }
   ],
   "source": [
    "def print_star(n = 1):\n",
    "    for _ in range(n):\n",
    "        print(\"*\" * 10)\n",
    "\n",
    "print_star(2) "
   ]
  },
  {
   "cell_type": "code",
   "execution_count": 19,
   "metadata": {},
   "outputs": [
    {
     "name": "stdout",
     "output_type": "stream",
     "text": [
      "Div(4) = 0.4\n",
      "Div(6, 5) = 0.8333333333333334\n"
     ]
    }
   ],
   "source": [
    "def div(a, b = 10):\n",
    "    return a/b\n",
    "\n",
    "print(\"Div(4) =\", div(4))\n",
    "print(\"Div(6, 5) =\", div(5, 6))"
   ]
  },
  {
   "cell_type": "code",
   "execution_count": 20,
   "metadata": {},
   "outputs": [
    {
     "ename": "SyntaxError",
     "evalue": "non-default argument follows default argument (199372866.py, line 1)",
     "output_type": "error",
     "traceback": [
      "\u001b[1;36m  Cell \u001b[1;32mIn[20], line 1\u001b[1;36m\u001b[0m\n\u001b[1;33m    def div(a = 2, b):\u001b[0m\n\u001b[1;37m                   ^\u001b[0m\n\u001b[1;31mSyntaxError\u001b[0m\u001b[1;31m:\u001b[0m non-default argument follows default argument\n"
     ]
    }
   ],
   "source": [
    "def div(a = 2, b):\n",
    "    return a/b\n",
    "\n"
   ]
  },
  {
   "cell_type": "code",
   "execution_count": 23,
   "metadata": {},
   "outputs": [
    {
     "name": "stdout",
     "output_type": "stream",
     "text": [
      "Div() = 0.5\n",
      "Div(4) = 2.0\n",
      "Div(6, 5) = 0.8333333333333334\n"
     ]
    }
   ],
   "source": [
    "def div(a =1 , b = 2):\n",
    "    return a/b\n",
    "\n",
    "print(\"Div() =\", div())\n",
    "print(\"Div(4) =\", div(4))\n",
    "print(\"Div(6, 5) =\", div(5, 6))"
   ]
  },
  {
   "cell_type": "code",
   "execution_count": 29,
   "metadata": {},
   "outputs": [
    {
     "name": "stdout",
     "output_type": "stream",
     "text": [
      "The result value is 2.0 or -4.0\n"
     ]
    }
   ],
   "source": [
    "def get_root(a, b, c):\n",
    "    r1 = (-b + (b ** 2 - 4 * a * c) ** 0.5) / (2 * a)\n",
    "    r2 = (-b - (b ** 2 - 4 * a * c) ** 0.5) / (2 * a)\n",
    "    return r1, r2\n",
    "\n",
    "result1, result2 = get_root(1, 2, -8)\n",
    "print(\"The result value is\", result1, \"or\", result2)"
   ]
  },
  {
   "cell_type": "code",
   "execution_count": 31,
   "metadata": {},
   "outputs": [
    {
     "name": "stdout",
     "output_type": "stream",
     "text": [
      "The result value is -0.25 or 0.5\n"
     ]
    }
   ],
   "source": [
    "result1, result2 = get_root(-8, 2, 1)\n",
    "print(\"The result value is\", result1, \"or\", result2)"
   ]
  },
  {
   "cell_type": "code",
   "execution_count": 32,
   "metadata": {},
   "outputs": [
    {
     "name": "stdout",
     "output_type": "stream",
     "text": [
      "The result value is 7.464101615137754 or 0.5358983848622456\n"
     ]
    }
   ],
   "source": [
    "result1, result2 = get_root(a=1, b= -8, c =4)\n",
    "print(\"The result value is\", result1, \"or\", result2)"
   ]
  },
  {
   "cell_type": "code",
   "execution_count": 34,
   "metadata": {},
   "outputs": [
    {
     "ename": "SyntaxError",
     "evalue": "positional argument follows keyword argument (159911683.py, line 1)",
     "output_type": "error",
     "traceback": [
      "\u001b[1;36m  Cell \u001b[1;32mIn[34], line 1\u001b[1;36m\u001b[0m\n\u001b[1;33m    result1, result2 = get_root(a=1, b= -8,  4)\u001b[0m\n\u001b[1;37m                                              ^\u001b[0m\n\u001b[1;31mSyntaxError\u001b[0m\u001b[1;31m:\u001b[0m positional argument follows keyword argument\n"
     ]
    }
   ],
   "source": [
    "result1, result2 = get_root(a=1, b= -8,  4)\n",
    "print(\"The result value is\", result1, \"or\", result2)"
   ]
  },
  {
   "cell_type": "code",
   "execution_count": 35,
   "metadata": {},
   "outputs": [
    {
     "name": "stdout",
     "output_type": "stream",
     "text": [
      "The result value is 7.464101615137754 or 0.5358983848622456\n"
     ]
    }
   ],
   "source": [
    "result1, result2 = get_root(1,-8, c=4)\n",
    "print(\"The result value is\", result1, \"or\", result2)"
   ]
  },
  {
   "cell_type": "markdown",
   "metadata": {},
   "source": [
    "#### 7. Result \n",
    "##### 7.1. A return statement that return a result"
   ]
  },
  {
   "cell_type": "code",
   "execution_count": 41,
   "metadata": {},
   "outputs": [
    {
     "name": "stdout",
     "output_type": "stream",
     "text": [
      "30\n",
      "50\n"
     ]
    }
   ],
   "source": [
    "def get_sum(a, b):\n",
    "    result =  a + b\n",
    "    return result\n",
    "\n",
    "n1 = get_sum(10, 20)\n",
    "n2 = get_sum(20, 30)\n",
    "\n",
    "print(n1)\n",
    "print(n2)\n"
   ]
  },
  {
   "cell_type": "code",
   "execution_count": 42,
   "metadata": {},
   "outputs": [
    {
     "name": "stdout",
     "output_type": "stream",
     "text": [
      "30\n",
      "50\n"
     ]
    }
   ],
   "source": [
    "def get_sum(a, b):\n",
    "    return a + b\n",
    "\n",
    "n1 = get_sum(10, 20)\n",
    "n2 = get_sum(20, 30)\n",
    "\n",
    "print(n1)\n",
    "print(n2)"
   ]
  },
  {
   "cell_type": "code",
   "execution_count": 43,
   "metadata": {},
   "outputs": [
    {
     "name": "stdout",
     "output_type": "stream",
     "text": [
      "The result value is 2.0 or -4.0\n"
     ]
    }
   ],
   "source": [
    "def get_root(a, b, c):\n",
    "    r1 = (-b + (b ** 2 - 4 * a * c) ** 0.5) / (2 * a)\n",
    "    r2 = (-b - (b ** 2 - 4 * a * c) ** 0.5) / (2 * a)\n",
    "    return r1, r2\n",
    "\n",
    "result1, result2 = get_root(1, 2, -8)\n",
    "print(\"The result value is\", result1, \"or\", result2)"
   ]
  },
  {
   "cell_type": "markdown",
   "metadata": {},
   "source": [
    "##### Q1 : Define a function named my_greet that print \"Welcome\" and call the function twice to print this greeting twice"
   ]
  },
  {
   "cell_type": "code",
   "execution_count": 45,
   "metadata": {},
   "outputs": [
    {
     "name": "stdout",
     "output_type": "stream",
     "text": [
      "Welcome mtfk!\n",
      "Welcome mtfk!\n"
     ]
    }
   ],
   "source": [
    "def my_greet():\n",
    "    print(\"Welcome mtfk!\")\n",
    "\n",
    "my_greet()\n",
    "my_greet()"
   ]
  },
  {
   "cell_type": "code",
   "execution_count": 51,
   "metadata": {},
   "outputs": [
    {
     "name": "stdout",
     "output_type": "stream",
     "text": [
      "The greater of 100 and 200 is 200\n",
      "The smaller of 100 and 200 is 100\n"
     ]
    }
   ],
   "source": [
    "def max2(m, n):\n",
    "    \n",
    "    if m < n:\n",
    "        print(\"The greater of\", m, \"and\", n, \"is\", n)\n",
    "        print(\"The smaller of\", m, \"and\", n, \"is\", m)\n",
    "    elif m > n:\n",
    "        print(\"The greater of\", m, \"and\", n, \"is\", m)\n",
    "        print(\"The smaller of\", m, \"and\", n, \"is\", n)\n",
    "\n",
    "max2(100, 200)\n",
    "    \n"
   ]
  },
  {
   "cell_type": "code",
   "execution_count": 54,
   "metadata": {},
   "outputs": [
    {
     "name": "stdout",
     "output_type": "stream",
     "text": [
      "1 mile is 1.61 km\n",
      "2 mile is 3.22 km\n",
      "3 mile is 4.83 km\n",
      "4 mile is 6.44 km\n",
      "5 mile is 8.05 km\n"
     ]
    }
   ],
   "source": [
    "def convert2mile():\n",
    "    i = 1\n",
    "    for _ in range(5):\n",
    "        mile = 1.61\n",
    "        \n",
    "        print(i, \"mile is\", mile * i, \"km\")\n",
    "        i += 1\n",
    "\n",
    "convert2mile()"
   ]
  },
  {
   "cell_type": "code",
   "execution_count": 55,
   "metadata": {},
   "outputs": [
    {
     "ename": "TypeError",
     "evalue": "cal2fah() missing 1 required positional argument: 'cel'",
     "output_type": "error",
     "traceback": [
      "\u001b[1;31m---------------------------------------------------------------------------\u001b[0m",
      "\u001b[1;31mTypeError\u001b[0m                                 Traceback (most recent call last)",
      "\u001b[1;32md:\\The Kdey\\Chapter 3\\Samsung-Innovation-Campus-Python\\Chapter 3\\Week9 -day1.ipynb Cell 33\u001b[0m line \u001b[0;36m7\n\u001b[0;32m      <a href='vscode-notebook-cell:/d%3A/The%20Kdey/Chapter%203/Samsung-Innovation-Campus-Python/Chapter%203/Week9%20-day1.ipynb#X53sZmlsZQ%3D%3D?line=2'>3</a>\u001b[0m     \u001b[39mfor\u001b[39;00m i \u001b[39min\u001b[39;00m \u001b[39mrange\u001b[39m(\u001b[39m1\u001b[39m, \u001b[39m6\u001b[39m):\n\u001b[0;32m      <a href='vscode-notebook-cell:/d%3A/The%20Kdey/Chapter%203/Samsung-Innovation-Campus-Python/Chapter%203/Week9%20-day1.ipynb#X53sZmlsZQ%3D%3D?line=3'>4</a>\u001b[0m         \u001b[39mprint\u001b[39m()\n\u001b[1;32m----> <a href='vscode-notebook-cell:/d%3A/The%20Kdey/Chapter%203/Samsung-Innovation-Campus-Python/Chapter%203/Week9%20-day1.ipynb#X53sZmlsZQ%3D%3D?line=6'>7</a>\u001b[0m cal2fah()\n",
      "\u001b[1;31mTypeError\u001b[0m: cal2fah() missing 1 required positional argument: 'cel'"
     ]
    }
   ],
   "source": [
    "def cal2fah(cel):\n",
    "    fah = cel * 9 / 5 + 32\n",
    "    for i in range(1, 6):\n",
    "        print()\n",
    "       \n",
    "\n",
    "cal2fah()"
   ]
  },
  {
   "cell_type": "markdown",
   "metadata": {},
   "source": [
    "#### 1. String Processing\n"
   ]
  },
  {
   "cell_type": "code",
   "execution_count": 58,
   "metadata": {},
   "outputs": [
    {
     "data": {
      "text/plain": [
       "2"
      ]
     },
     "execution_count": 58,
     "metadata": {},
     "output_type": "execute_result"
    }
   ],
   "source": [
    "birth = \" 1988.95.13\"\n",
    "birth.count(\".\")"
   ]
  },
  {
   "cell_type": "code",
   "execution_count": 59,
   "metadata": {},
   "outputs": [
    {
     "name": "stdout",
     "output_type": "stream",
     "text": [
      "The length of birth : 11\n"
     ]
    }
   ],
   "source": [
    "birth = \" 1988.95.13\"\n",
    "print(\"The length of birth :\", len(birth))"
   ]
  },
  {
   "cell_type": "code",
   "execution_count": 60,
   "metadata": {},
   "outputs": [
    {
     "data": {
      "text/plain": [
       "'9'"
      ]
     },
     "execution_count": 60,
     "metadata": {},
     "output_type": "execute_result"
    }
   ],
   "source": [
    "birth = \" 1988.95.13\"\n",
    "max(birth)"
   ]
  },
  {
   "cell_type": "code",
   "execution_count": 61,
   "metadata": {},
   "outputs": [
    {
     "data": {
      "text/plain": [
       "57"
      ]
     },
     "execution_count": 61,
     "metadata": {},
     "output_type": "execute_result"
    }
   ],
   "source": [
    "ord(max(birth))"
   ]
  },
  {
   "cell_type": "code",
   "execution_count": 63,
   "metadata": {},
   "outputs": [
    {
     "data": {
      "text/plain": [
       "32"
      ]
     },
     "execution_count": 63,
     "metadata": {},
     "output_type": "execute_result"
    }
   ],
   "source": [
    "ord(min(birth))"
   ]
  },
  {
   "cell_type": "code",
   "execution_count": 64,
   "metadata": {},
   "outputs": [
    {
     "data": {
      "text/plain": [
       "('9', '.')"
      ]
     },
     "execution_count": 64,
     "metadata": {},
     "output_type": "execute_result"
    }
   ],
   "source": [
    "chr(57), chr(46)"
   ]
  },
  {
   "cell_type": "markdown",
   "metadata": {},
   "source": [
    "#### 1.3"
   ]
  },
  {
   "cell_type": "code",
   "execution_count": 65,
   "metadata": {},
   "outputs": [
    {
     "data": {
      "text/plain": [
       "2"
      ]
     },
     "execution_count": 65,
     "metadata": {},
     "output_type": "execute_result"
    }
   ],
   "source": [
    "a = \"I Love Python\"\n",
    "a.count(\"o\")"
   ]
  },
  {
   "cell_type": "code",
   "execution_count": 66,
   "metadata": {},
   "outputs": [
    {
     "data": {
      "text/plain": [
       "0"
      ]
     },
     "execution_count": 66,
     "metadata": {},
     "output_type": "execute_result"
    }
   ],
   "source": [
    "a.count(\"k\")"
   ]
  },
  {
   "cell_type": "code",
   "execution_count": 67,
   "metadata": {},
   "outputs": [
    {
     "data": {
      "text/plain": [
       "3"
      ]
     },
     "execution_count": 67,
     "metadata": {},
     "output_type": "execute_result"
    }
   ],
   "source": [
    "a.find(\"o\")"
   ]
  },
  {
   "cell_type": "code",
   "execution_count": 68,
   "metadata": {},
   "outputs": [
    {
     "data": {
      "text/plain": [
       "11"
      ]
     },
     "execution_count": 68,
     "metadata": {},
     "output_type": "execute_result"
    }
   ],
   "source": [
    "a.find(\"on\")"
   ]
  },
  {
   "cell_type": "code",
   "execution_count": 69,
   "metadata": {},
   "outputs": [
    {
     "data": {
      "text/plain": [
       "True"
      ]
     },
     "execution_count": 69,
     "metadata": {},
     "output_type": "execute_result"
    }
   ],
   "source": [
    "a.startswith(\"I\")"
   ]
  },
  {
   "cell_type": "code",
   "execution_count": 72,
   "metadata": {},
   "outputs": [
    {
     "data": {
      "text/plain": [
       "True"
      ]
     },
     "execution_count": 72,
     "metadata": {},
     "output_type": "execute_result"
    }
   ],
   "source": [
    "a.endswith(\"Python\")"
   ]
  },
  {
   "cell_type": "code",
   "execution_count": 73,
   "metadata": {},
   "outputs": [],
   "source": [
    "a1 = \"I Love Python\"\n",
    "a2 = \"i love python\"\n",
    "a3 = \"I LOVE PYTHON\""
   ]
  },
  {
   "cell_type": "code",
   "execution_count": 74,
   "metadata": {},
   "outputs": [
    {
     "data": {
      "text/plain": [
       "'I LOVE PYTHON'"
      ]
     },
     "execution_count": 74,
     "metadata": {},
     "output_type": "execute_result"
    }
   ],
   "source": [
    "a1.upper()"
   ]
  },
  {
   "cell_type": "code",
   "execution_count": 76,
   "metadata": {},
   "outputs": [
    {
     "data": {
      "text/plain": [
       "'i love python'"
      ]
     },
     "execution_count": 76,
     "metadata": {},
     "output_type": "execute_result"
    }
   ],
   "source": [
    "a3.lower()"
   ]
  },
  {
   "cell_type": "code",
   "execution_count": 77,
   "metadata": {},
   "outputs": [
    {
     "data": {
      "text/plain": [
       "'i lOVE pYTHON'"
      ]
     },
     "execution_count": 77,
     "metadata": {},
     "output_type": "execute_result"
    }
   ],
   "source": [
    "a1.swapcase()"
   ]
  },
  {
   "cell_type": "code",
   "execution_count": 79,
   "metadata": {},
   "outputs": [
    {
     "data": {
      "text/plain": [
       "True"
      ]
     },
     "execution_count": 79,
     "metadata": {},
     "output_type": "execute_result"
    }
   ],
   "source": [
    "a1.istitle()"
   ]
  },
  {
   "cell_type": "code",
   "execution_count": 80,
   "metadata": {},
   "outputs": [
    {
     "data": {
      "text/plain": [
       "False"
      ]
     },
     "execution_count": 80,
     "metadata": {},
     "output_type": "execute_result"
    }
   ],
   "source": [
    "a2.istitle()"
   ]
  },
  {
   "cell_type": "markdown",
   "metadata": {},
   "source": [
    "#### 1.4\n"
   ]
  },
  {
   "cell_type": "code",
   "execution_count": 81,
   "metadata": {},
   "outputs": [
    {
     "name": "stdout",
     "output_type": "stream",
     "text": [
      "ABCDEFGHIJKLMNOPQRSTUVWXYZ\n"
     ]
    }
   ],
   "source": [
    "import string\n",
    "src_str = string.ascii_uppercase\n",
    "print(src_str)"
   ]
  },
  {
   "cell_type": "code",
   "execution_count": 82,
   "metadata": {},
   "outputs": [
    {
     "name": "stdout",
     "output_type": "stream",
     "text": [
      "abcdefghijklmnopqrstuvwxyz\n"
     ]
    }
   ],
   "source": [
    "import string\n",
    "src_str = string.ascii_lowercase\n",
    "print(src_str)"
   ]
  },
  {
   "cell_type": "code",
   "execution_count": 84,
   "metadata": {},
   "outputs": [
    {
     "name": "stdout",
     "output_type": "stream",
     "text": [
      "bcdefghijklmnopqrstuvwxyza\n"
     ]
    }
   ],
   "source": [
    "src_str = string.ascii_lowercase\n",
    "dst_str = src_str[1:] + src_str[:1]\n",
    "print(dst_str)"
   ]
  },
  {
   "cell_type": "code",
   "execution_count": 87,
   "metadata": {},
   "outputs": [
    {
     "name": "stdout",
     "output_type": "stream",
     "text": [
      "BCDEFGHIJKLMNOPQRSTUVWXYZA\n"
     ]
    }
   ],
   "source": [
    "src_str = string.ascii_uppercase\n",
    "dst_str = src_str[1:] + src_str[:1]\n",
    "print(dst_str)"
   ]
  },
  {
   "cell_type": "markdown",
   "metadata": {},
   "source": [
    "#### 1.5"
   ]
  },
  {
   "cell_type": "code",
   "execution_count": 89,
   "metadata": {},
   "outputs": [
    {
     "name": "stdout",
     "output_type": "stream",
     "text": [
      "The index or scr_str : 0\n",
      "The character in dst_str at possition A in src_str : B\n"
     ]
    }
   ],
   "source": [
    "n = src_str.index(\"A\")\n",
    "print(\"The index or scr_str :\", n)\n",
    "print(\"The character in dst_str at possition A in src_str :\", dst_str[n])"
   ]
  },
  {
   "cell_type": "markdown",
   "metadata": {},
   "source": [
    "### 2\n",
    "#### 2.1"
   ]
  },
  {
   "cell_type": "code",
   "execution_count": 90,
   "metadata": {
    "vscode": {
     "languageId": "powershell"
    }
   },
   "outputs": [
    {
     "name": "stdout",
     "output_type": "stream",
     "text": [
      "\n",
      "\n"
     ]
    }
   ],
   "source": [
    "def get_root(a, b, c):\n",
    "    r1 = (-b + (b ** 2 - 4 * a * c) ** 0.5) / (2 * a)\n",
    "    r2 = (-b - (b ** 2 - 4 * a * c) ** 0.5) / (2 * a)\n",
    "    print(\"The sulution is\", r1, \"or\", r2)\n",
    "\n",
    "print()\n",
    "print()"
   ]
  },
  {
   "cell_type": "markdown",
   "metadata": {},
   "source": [
    "### 3\n",
    "#### 3.1"
   ]
  },
  {
   "cell_type": "code",
   "execution_count": 94,
   "metadata": {},
   "outputs": [
    {
     "name": "stdout",
     "output_type": "stream",
     "text": [
      "The area of a circle of radius 10 is 314.0, and the circumference of the circle is 62.8\n"
     ]
    }
   ],
   "source": [
    "def circle_area_circum(radius):\n",
    "    area = 3.14 * radius ** 2\n",
    "    circum = 2 * 3.14 * radius\n",
    "    return area, circum\n",
    "\n",
    "radius = 10\n",
    "area, circum = circle_area_circum(radius)\n",
    "\n",
    "print(\"The area of a circle of radius {} is {:.1f}, and the circumference of the circle is {:.1f}\".format(radius, area, circum))"
   ]
  },
  {
   "cell_type": "markdown",
   "metadata": {},
   "source": [
    "### 4\n",
    "#### 4.1\n"
   ]
  },
  {
   "cell_type": "code",
   "execution_count": 96,
   "metadata": {},
   "outputs": [
    {
     "name": "stdout",
     "output_type": "stream",
     "text": [
      "print_sum() inside : the sum of 10 and 20 is 30\n",
      "print_sum() outside : the sum of 10 and 20 is 30\n"
     ]
    }
   ],
   "source": [
    "def print_sum():\n",
    "    result = a + b\n",
    "    print(\"print_sum() inside : the sum of\", a, \"and\", b, \"is\", result)\n",
    "\n",
    "a = 10\n",
    "b = 20\n",
    "\n",
    "print_sum()\n",
    "\n",
    "result = a + b\n",
    "print(\"print_sum() outside : the sum of\", a, \"and\", b, \"is\", result)"
   ]
  },
  {
   "cell_type": "code",
   "execution_count": 97,
   "metadata": {},
   "outputs": [
    {
     "name": "stdout",
     "output_type": "stream",
     "text": [
      "print_sum() inside : the sum of 100 and 200 is 300\n"
     ]
    }
   ],
   "source": [
    "def print_sum():\n",
    "    a = 100\n",
    "    b = 200\n",
    "    result = a + b\n",
    "    print(\"print_sum() inside : the sum of\", a, \"and\", b, \"is\", result)\n",
    "\n",
    "print_sum()\n"
   ]
  },
  {
   "cell_type": "code",
   "execution_count": null,
   "metadata": {},
   "outputs": [],
   "source": []
  }
 ],
 "metadata": {
  "kernelspec": {
   "display_name": "Python 3",
   "language": "python",
   "name": "python3"
  },
  "language_info": {
   "codemirror_mode": {
    "name": "ipython",
    "version": 3
   },
   "file_extension": ".py",
   "mimetype": "text/x-python",
   "name": "python",
   "nbconvert_exporter": "python",
   "pygments_lexer": "ipython3",
   "version": "3.11.0"
  },
  "orig_nbformat": 4
 },
 "nbformat": 4,
 "nbformat_minor": 2
}
