{
 "cells": [
  {
   "cell_type": "code",
   "execution_count": 2,
   "metadata": {},
   "outputs": [
    {
     "name": "stdout",
     "output_type": "stream",
     "text": [
      "The avg of 3 numbers is : 2.0\n",
      "The max of 3 numbers is : 3\n",
      "The min of 3 numbers is : 1\n"
     ]
    }
   ],
   "source": [
    "def mean3(a, b, c):\n",
    "    return (a+b+c) / 3\n",
    "\n",
    "def max3(a, b, c):\n",
    "    max = a\n",
    "    if max < b:\n",
    "        max = b\n",
    "    if max < c:\n",
    "        max = c\n",
    "        \n",
    "    return max\n",
    "\n",
    "def min3(a, b, c): \n",
    "    min = a\n",
    "    if min > b:\n",
    "        min = b\n",
    "    if min > c:\n",
    "        min = c\n",
    "\n",
    "    return min\n",
    "\n",
    "a, b, c = input(\"Enter 3 number : \").split()\n",
    "\n",
    "a = int(a)\n",
    "b = int(b)\n",
    "c = int(c)\n",
    "\n",
    "print(\"The avg of 3 numbers is :\", mean3(a, b, c))\n",
    "print(\"The max of 3 numbers is :\", max3(a, b, c))\n",
    "print(\"The min of 3 numbers is :\", min3(a, b, c))\n",
    "\n",
    "    \n",
    "    "
   ]
  },
  {
   "cell_type": "markdown",
   "metadata": {},
   "source": [
    "## Unit 18 : Resursion function call"
   ]
  },
  {
   "cell_type": "markdown",
   "metadata": {},
   "source": [
    "#### 3 - Mission\n",
    "##### 3.2 - Hanoi() function\n"
   ]
  },
  {
   "cell_type": "code",
   "execution_count": null,
   "metadata": {},
   "outputs": [],
   "source": []
  }
 ],
 "metadata": {
  "kernelspec": {
   "display_name": "Python 3",
   "language": "python",
   "name": "python3"
  },
  "language_info": {
   "codemirror_mode": {
    "name": "ipython",
    "version": 3
   },
   "file_extension": ".py",
   "mimetype": "text/x-python",
   "name": "python",
   "nbconvert_exporter": "python",
   "pygments_lexer": "ipython3",
   "version": "3.11.0"
  },
  "orig_nbformat": 4
 },
 "nbformat": 4,
 "nbformat_minor": 2
}
